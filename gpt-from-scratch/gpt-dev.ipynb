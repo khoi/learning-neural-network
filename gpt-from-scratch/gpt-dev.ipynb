{
 "cells": [
  {
   "cell_type": "code",
   "execution_count": 3,
   "metadata": {},
   "outputs": [
    {
     "name": "stdout",
     "output_type": "stream",
     "text": [
      "TNXP gắn liền với truyền thống Ngành GTVT.\n",
      "'Đà Nẵng chỉ đồng hành với doanh nghiệp làm ăn chân chính'.\n",
      "Những người tìm kiếm nạn nhân tại Bản Vẽ (Nghệ An).\n",
      "Phá chuyên án sản xuất, mua bán trái phép vật liệu nổ.\n",
      "25 triệu USD xây nhà máy xử lý nước thải Nha Trang.\n",
      "Trang web đặt phòng nội địa tìm khe cửa hẹp.\n",
      "Kỳ lạ lợn con có 2 mõm và 3 mắt.\n",
      "Ca sĩ Kiwi Ngô Mai Trang tự tin sẽ là quán quân Vua đầu bếp 2017.\n",
      "Điểm tin World Cup sáng 29/6: Brasil, Colombia vào tứ kết.\n",
      "Giảm nhập dầu Iran, được miễn trừng phạt.\n",
      "\"Lạt mềm\" để dạy học sinh.\n",
      "Sức mạnh Gia Lai.\n",
      "Tổ chức Liên hoan Âm nhạc Châu Âu 2015.\n",
      "1.500 vận động viên Diễn Châu tham gia hội khỏe Phù Đổng.\n",
      "Góc ảnh: Man City 'thách' M.U thắng... 10-0.\n",
      "Mưa lớn cuối chiều, Hà Nội tái diễn cảnh tát nước.\n",
      "Hàng mới trong sân chơi bán tải Việt có gì hay?.\n",
      "Chelsea đứt mạch thắng, MU đánh chiếm ngôi đầu.\n",
      "Y Phụng: \"Nhan sắc sau tuổi 20 là do mình quyết định\".\n",
      "Bồi dưỡng nghiệp vụ công tác tổ chức xây dựng Đảng khu vực phía Nam.\n",
      "Tìm lại niềm đam mê.\n",
      "Sao phim \" Y\n"
     ]
    }
   ],
   "source": [
    "with open(\"./corpus-title-40k.txt\") as f:\n",
    "    text = f.read()\n",
    "\n",
    "print(text[:1000])"
   ]
  },
  {
   "cell_type": "code",
   "execution_count": null,
   "metadata": {},
   "outputs": [],
   "source": []
  },
  {
   "cell_type": "code",
   "execution_count": null,
   "metadata": {},
   "outputs": [],
   "source": []
  },
  {
   "cell_type": "code",
   "execution_count": null,
   "metadata": {},
   "outputs": [],
   "source": []
  }
 ],
 "metadata": {
  "kernelspec": {
   "display_name": "venv",
   "language": "python",
   "name": "python3"
  },
  "language_info": {
   "codemirror_mode": {
    "name": "ipython",
    "version": 3
   },
   "file_extension": ".py",
   "mimetype": "text/x-python",
   "name": "python",
   "nbconvert_exporter": "python",
   "pygments_lexer": "ipython3",
   "version": "3.12.3"
  }
 },
 "nbformat": 4,
 "nbformat_minor": 2
}
