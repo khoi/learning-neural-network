{
 "cells": [
  {
   "cell_type": "code",
   "execution_count": 1,
   "metadata": {},
   "outputs": [],
   "source": [
    "import mlx.core as mx\n",
    "from tqdm.auto import tqdm"
   ]
  },
  {
   "cell_type": "code",
   "execution_count": 2,
   "metadata": {},
   "outputs": [
    {
     "name": "stdout",
     "output_type": "stream",
     "text": [
      "length of text: 469930521\n",
      "number of lines: 9487417\n"
     ]
    }
   ],
   "source": [
    "with open(\"./corpus-title.txt\") as f:\n",
    "    raw_text = f.read()\n",
    "    lines = raw_text.split(\"\\n\")\n",
    "    \n",
    "print(f\"length of text: {len(raw_text)}\")\n",
    "print(f\"number of lines: {len(lines)}\")"
   ]
  },
  {
   "cell_type": "code",
   "execution_count": 3,
   "metadata": {},
   "outputs": [
    {
     "data": {
      "application/vnd.jupyter.widget-view+json": {
       "model_id": "4edc4fe74cac4e39ba37715c9be54a67",
       "version_major": 2,
       "version_minor": 0
      },
      "text/plain": [
       "  0%|          | 0/9487417 [00:00<?, ?it/s]"
      ]
     },
     "metadata": {},
     "output_type": "display_data"
    },
    {
     "name": "stdout",
     "output_type": "stream",
     "text": [
      "invalid chars: ōСАṅČŪǵçΛуμËбńğî}ęВöṢβā{ТёĔäχРǒΣ中ū¾قž⑥Оṇüœиªëĭ⁰αåÞدÑňÇßÜсŭÐЕæʊа大įēƒŠšıɑïÛÅНŸčĒоŌМÄøÖṃ¼łşćب¹ÆûṂ½µŞīØ\n",
      "number of lines after filtering: 9485901\n"
     ]
    }
   ],
   "source": [
    "invalid_chars = set()\n",
    "def is_valid_line(t):\n",
    "    valid_chars = \"aAàÀảẢãÃáÁạẠăĂằẰẳẲẵẴắẮặẶâÂầẦẩẨẫẪấẤậẬbBcCdDđĐeEèÈẻẺẽẼéÉẹẸêÊềỀểỂễỄếẾệỆfFgGhHiIìÌỉỈĩĨíÍịỊjJkKКlLmMnNoOòÒỏỎõÕóÓọỌôÔồỒổỔỗỖốỐộỘơƠờỜởỞỡỠớỚợỢpPqQrRsStTuUùÙủỦũŨúÚụỤưƯừỪửỬữỮứỨựỰvVwWxXyYỳỲỷỶỹỸýÝỵỴzZ 1234567890?!.,/;:'\\\"-()&%$#@*+=_<>[]\\\\|`~^²³º\"\n",
    "    valid_chars_set = set(valid_chars)\n",
    "    if t.strip() == \"\":\n",
    "        return False\n",
    "    for c in t:\n",
    "        if c not in valid_chars_set:\n",
    "            invalid_chars.add(c)\n",
    "            return False\n",
    "    return True\n",
    "\n",
    "lines = [line for line in tqdm(lines) if is_valid_line(line)]\n",
    "text = \"\\n\".join(lines)\n",
    "\n",
    "print(f\"invalid chars: {\"\".join(invalid_chars)}\")\n",
    "print(f\"number of lines after filtering: {len(lines)}\")"
   ]
  },
  {
   "cell_type": "code",
   "execution_count": 4,
   "metadata": {},
   "outputs": [
    {
     "name": "stdout",
     "output_type": "stream",
     "text": [
      "\n",
      " !\"$%&'()*+,-./0123456789:;<=>?@ABCDEFGHIJKLMNOPQRSTUVWXYZ[]^_abcdefghijklmnopqrstuvwxyz|²³ºÀÁÂÃÈÉÊÌÍÒÓÔÕÙÚÝàáâãèéêìíòóôõùúýĂăĐđĨĩŨũƠơƯưКẠạẢảẤấẦầẨẩẪẫẬậẮắẰằẲẳẴẵẶặẸẹẺẻẼẽẾếỀềỂểỄễỆệỈỉỊịỌọỎỏỐốỒồỔổỖỗỘộỚớỜờỞởỠỡỢợỤụỦủỨứỪừỬửỮữỰựỲỳỴỵỶỷỸỹ\n",
      "vocab size: 228\n"
     ]
    }
   ],
   "source": [
    "chars = sorted(list(set(text)))\n",
    "vocab_size = len(chars)\n",
    "print(''.join(chars))\n",
    "print(f\"vocab size: {vocab_size}\")"
   ]
  },
  {
   "cell_type": "code",
   "execution_count": 8,
   "metadata": {},
   "outputs": [
    {
     "name": "stdout",
     "output_type": "stream",
     "text": [
      "[35, 70, 111, 87, 1, 116, 1, 76, 195, 78, 1, 78, 70, 139, 82, 1, 76, 69, 83, 195]\n",
      "Chây ì nộp phạt nguộ\n"
     ]
    }
   ],
   "source": [
    "# create a mapping from characters to integers\n",
    "stoi = { ch:i for i,ch in enumerate(chars) }\n",
    "itos = { i:ch for i,ch in enumerate(chars) }\n",
    "encode = lambda s: [stoi[c] for c in s] # encoder: take a string, output a list of integers\n",
    "decode = lambda l: ''.join([itos[i] for i in l]) # decoder: take a list of integers, output a string\n",
    "\n",
    "print(encode(text[:20]))\n",
    "print(decode(encode(text[:20])))"
   ]
  },
  {
   "cell_type": "code",
   "execution_count": 9,
   "metadata": {},
   "outputs": [],
   "source": [
    "data = mx.array(encode(text), dtype=mx.int64)\n",
    "print(f\"shape {data.shape} dtype {data.dtype}\")\n",
    "print(data[:20])"
   ]
  },
  {
   "cell_type": "code",
   "execution_count": null,
   "metadata": {},
   "outputs": [],
   "source": [
    "n = int(0.9*len(data))\n",
    "train_data = data[:n]\n",
    "val_data = data[n:]"
   ]
  }
 ],
 "metadata": {
  "kernelspec": {
   "display_name": "Python 3 (ipykernel)",
   "language": "python",
   "name": "python3"
  },
  "language_info": {
   "codemirror_mode": {
    "name": "ipython",
    "version": 3
   },
   "file_extension": ".py",
   "mimetype": "text/x-python",
   "name": "python",
   "nbconvert_exporter": "python",
   "pygments_lexer": "ipython3",
   "version": "3.12.3"
  }
 },
 "nbformat": 4,
 "nbformat_minor": 4
}
