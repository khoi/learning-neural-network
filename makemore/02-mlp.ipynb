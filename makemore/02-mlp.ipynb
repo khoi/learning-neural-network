{
 "cells": [
  {
   "cell_type": "code",
   "execution_count": 3,
   "metadata": {},
   "outputs": [],
   "source": [
    "import torch\n",
    "import torch.nn.functional as F\n",
    "import matplotlib.pyplot as plt\n",
    "%matplotlib inline\n",
    "\n",
    "if False and torch.backends.mps.is_available(): # mps turned out to be much slower for some reason\n",
    "    pt_device = torch.device(\"mps\")\n",
    "    print(\"torch using mps\")\n",
    "else:\n",
    "    pt_device=\"cpu\"\n",
    "    \n",
    "torch.set_default_device(pt_device)    "
   ]
  },
  {
   "cell_type": "code",
   "execution_count": 4,
   "metadata": {},
   "outputs": [
    {
     "name": "stdout",
     "output_type": "stream",
     "text": [
      "32033\n"
     ]
    },
    {
     "data": {
      "text/plain": [
       "['emma', 'olivia', 'ava', 'isabella', 'sophia']"
      ]
     },
     "execution_count": 4,
     "metadata": {},
     "output_type": "execute_result"
    }
   ],
   "source": [
    "words = open(\"names.txt\").read().splitlines()\n",
    "print(len(words))\n",
    "words[:5]"
   ]
  },
  {
   "cell_type": "code",
   "execution_count": 5,
   "metadata": {},
   "outputs": [
    {
     "name": "stdout",
     "output_type": "stream",
     "text": [
      "{'a': 1, 'b': 2, 'c': 3, 'd': 4, 'e': 5, 'f': 6, 'g': 7, 'h': 8, 'i': 9, 'j': 10, 'k': 11, 'l': 12, 'm': 13, 'n': 14, 'o': 15, 'p': 16, 'q': 17, 'r': 18, 's': 19, 't': 20, 'u': 21, 'v': 22, 'w': 23, 'x': 24, 'y': 25, 'z': 26, '.': 0}\n",
      "{1: 'a', 2: 'b', 3: 'c', 4: 'd', 5: 'e', 6: 'f', 7: 'g', 8: 'h', 9: 'i', 10: 'j', 11: 'k', 12: 'l', 13: 'm', 14: 'n', 15: 'o', 16: 'p', 17: 'q', 18: 'r', 19: 's', 20: 't', 21: 'u', 22: 'v', 23: 'w', 24: 'x', 25: 'y', 26: 'z', 0: '.'}\n"
     ]
    }
   ],
   "source": [
    "chars = sorted(list(set(''.join(words))))\n",
    "stoi = {ch: i+1 for i, ch in enumerate(chars)}\n",
    "stoi['.'] = 0   \n",
    "itos = {i: ch for ch, i in stoi.items()}\n",
    "print(stoi)\n",
    "print(itos)"
   ]
  },
  {
   "cell_type": "code",
   "execution_count": 6,
   "metadata": {},
   "outputs": [
    {
     "name": "stdout",
     "output_type": "stream",
     "text": [
      "torch.Size([182315, 3]) torch.Size([22918, 3]) torch.Size([22913, 3])\n",
      "torch.Size([182315]) torch.Size([22918]) torch.Size([22913])\n"
     ]
    }
   ],
   "source": [
    "def build_data(words, block_size):\n",
    "    X, Y = [], [] \n",
    "    for w in words:\n",
    "        context = [0] * block_size\n",
    "        for c in w + '.':\n",
    "            ix = stoi[c]\n",
    "            X.append(context)\n",
    "            Y.append(ix)\n",
    "            context = context[1:] + [ix]\n",
    "    return torch.tensor(X), torch.tensor(Y)\n",
    "\n",
    "import random\n",
    "\n",
    "random.shuffle(words)\n",
    "n1 = int(len(words) * 0.8)\n",
    "n2 = int(len(words) * 0.9)\n",
    "\n",
    "block_size = 3\n",
    "\n",
    "X_train, Y_train = build_data(words[:n1], block_size)\n",
    "X_dev, Y_dev = build_data(words[n1:n2], block_size)\n",
    "X_test, Y_test = build_data(words[n2:], block_size)\n",
    "\n",
    "print(X_train.shape, X_dev.shape, X_test.shape)\n",
    "print(Y_train.shape, Y_dev.shape, Y_test.shape)"
   ]
  },
  {
   "cell_type": "code",
   "execution_count": 7,
   "metadata": {},
   "outputs": [
    {
     "data": {
      "text/plain": [
       "11897"
      ]
     },
     "execution_count": 7,
     "metadata": {},
     "output_type": "execute_result"
    }
   ],
   "source": [
    "C = torch.rand((27,10))\n",
    "W1 = torch.rand((C.shape[1] * 3, 200))\n",
    "b1 = torch.rand((200,))\n",
    "W2 = torch.randn(200, 27)\n",
    "b2 = torch.randn(27)\n",
    "\n",
    "parameters = [C, W1, b1, W2, b2]\n",
    "\n",
    "for p in parameters:\n",
    "    p.requires_grad = True\n",
    "\n",
    "sum(p.numel() for p in parameters)"
   ]
  },
  {
   "cell_type": "code",
   "execution_count": 15,
   "metadata": {},
   "outputs": [
    {
     "name": "stdout",
     "output_type": "stream",
     "text": [
      "loss for single batch 3.528170347213745\n",
      "CPU times: user 35.6 s, sys: 1min 46s, total: 2min 21s\n",
      "Wall time: 17.5 s\n"
     ]
    }
   ],
   "source": [
    "%%time\n",
    "\n",
    "max_steps = 200000\n",
    "batch_size = 32\n",
    "lossi = []\n",
    "\n",
    "for i in range(200000):\n",
    "    # mini batch, run the whole fordward back ward update in just a small batch\n",
    "    ix = torch.randint(0, X_train.shape[0], (batch_size,))\n",
    "    # forward pas\n",
    "    emb = C[X_train[ix]] \n",
    "    h = torch.tanh(emb.view(-1, C.shape[1] * 3) @ W1 + b1) \n",
    "    logits = h @ W2 + b2 # (32, 27)\n",
    "    # counts = logits.exp()\n",
    "    # prob = counts / counts.sum(1, keepdim=True)\n",
    "    # loss = -prob[torch.arange(32), Y].log().mean()\n",
    "    loss = F.cross_entropy(logits, Y_train[ix]) # exactly the same as the above, just much more efficient\n",
    "    # backward pass\n",
    "    for p in parameters:\n",
    "        p.grad = None\n",
    "    loss.backward()\n",
    "\n",
    "    # update\n",
    "    learning_rate = 0.1 if i < max_steps/2 else 0.01\n",
    "\n",
    "    for p in parameters:\n",
    "        p.data += -learning_rate * p.grad\n",
    "\n",
    "    if i % 10000 == 0:\n",
    "        print(f\"{i:7d}/{max_steps:7d} loss: {loss.item():.4f}\")\n",
    "        \n",
    "    lossi.append(loss.item())\n"
   ]
  },
  {
   "cell_type": "code",
   "execution_count": 10,
   "metadata": {},
   "outputs": [
    {
     "name": "stdout",
     "output_type": "stream",
     "text": [
      "loss for the training dataset 3.11991810798645\n"
     ]
    }
   ],
   "source": [
    "emb = C[X_train] # (32, 3, 2)\n",
    "h = torch.tanh(emb.view(-1,C.shape[1] * 3) @ W1 + b1) \n",
    "logits = h @ W2 + b2 # (32, 27)\n",
    "loss = F.cross_entropy(logits, Y_train) \n",
    "print(\"loss for the training dataset\", loss.item())"
   ]
  },
  {
   "cell_type": "code",
   "execution_count": 11,
   "metadata": {},
   "outputs": [
    {
     "name": "stdout",
     "output_type": "stream",
     "text": [
      "loss for the dev dataset 3.113191843032837\n"
     ]
    }
   ],
   "source": [
    "emb = C[X_dev] # (32, 3, 2)\n",
    "h = torch.tanh(emb.view(-1,C.shape[1] * 3) @ W1 + b1) \n",
    "logits = h @ W2 + b2 # (32, 27)\n",
    "loss = F.cross_entropy(logits, Y_dev) \n",
    "print(\"loss for the dev dataset\", loss.item())"
   ]
  },
  {
   "cell_type": "code",
   "execution_count": 13,
   "metadata": {},
   "outputs": [
    {
     "name": "stdout",
     "output_type": "stream",
     "text": [
      "oeereeeaoeemoetaavuoiexeuoehe\n",
      "raoaesenne\n",
      "ciqneeievsyeevleeeaernieddepleepkriileetmn\n",
      "oynaioeiyommolaanelfndliealeueeeesakeheraube\n",
      "eeieeieeeinudageeeeyilor\n",
      "ytlocavaeeeedmvedevexarednaeyyyaeiesieeue\n",
      "enoteoxlvee\n",
      "idjemceieeev\n",
      "unnoelyeeeeeresnoeteoesteeeeeeoennieheekeeeeebingioenikkaheyoenreyecieyeri\n",
      "ynleeeddivednnlyinesmaneaixeglreisiacaehayatamrgeliamertsomjeeinsmidedleaeaeoeoakedeelaeieeoteeeeeoeasxiherdjmevesieobtaealeeiduverexe\n"
     ]
    }
   ],
   "source": [
    "# sampling from the model\n",
    "\n",
    "def sample_next(context, temperature=1):\n",
    "    emb = C[context]\n",
    "    h = torch.tanh(emb.view(-1, C.shape[1] * 3) @ W1 + b1) \n",
    "    logits = h @ W2 + b2 # (32, 27)\n",
    "    probs = F.softmax(logits / temperature, 1)\n",
    "    return torch.multinomial(probs, 1).item()\n",
    "\n",
    "def sample(init_context, temperature=1):\n",
    "    res = init_context\n",
    "    while True:\n",
    "        next = sample_next(res[-3:], temperature)\n",
    "        if next == 0: break\n",
    "        res.append(next)\n",
    "    \n",
    "    return ''.join([itos[i] for i in res])\n",
    "\n",
    "for _ in range(10):\n",
    "    print(sample([0, 0, 0], temperature=1)[3:])"
   ]
  },
  {
   "cell_type": "code",
   "execution_count": null,
   "metadata": {},
   "outputs": [],
   "source": []
  }
 ],
 "metadata": {
  "kernelspec": {
   "display_name": ".venv",
   "language": "python",
   "name": "python3"
  },
  "language_info": {
   "codemirror_mode": {
    "name": "ipython",
    "version": 3
   },
   "file_extension": ".py",
   "mimetype": "text/x-python",
   "name": "python",
   "nbconvert_exporter": "python",
   "pygments_lexer": "ipython3",
   "version": "3.9.6"
  }
 },
 "nbformat": 4,
 "nbformat_minor": 2
}
