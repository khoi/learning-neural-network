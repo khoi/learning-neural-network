{
 "cells": [
  {
   "cell_type": "code",
   "execution_count": 1,
   "metadata": {},
   "outputs": [],
   "source": [
    "import torch\n",
    "import torch.nn.functional as F\n",
    "import matplotlib.pyplot as plt\n",
    "%matplotlib inline\n",
    "\n",
    "use_mps = False\n",
    "\n",
    "if use_mps and torch.backends.mps.is_available(): # mps turned out to be much slower for some reason\n",
    "    pt_device = torch.device(\"mps\")\n",
    "    print(\"torch using mps\")\n",
    "else:\n",
    "    pt_device=\"cpu\"\n",
    "    \n",
    "torch.set_default_device(pt_device)    "
   ]
  },
  {
   "cell_type": "code",
   "execution_count": 2,
   "metadata": {},
   "outputs": [
    {
     "name": "stdout",
     "output_type": "stream",
     "text": [
      "32033\n"
     ]
    },
    {
     "data": {
      "text/plain": [
       "['emma', 'olivia', 'ava', 'isabella', 'sophia']"
      ]
     },
     "execution_count": 2,
     "metadata": {},
     "output_type": "execute_result"
    }
   ],
   "source": [
    "words = open(\"names.txt\").read().splitlines()\n",
    "print(len(words))\n",
    "words[:5]"
   ]
  },
  {
   "cell_type": "code",
   "execution_count": 3,
   "metadata": {},
   "outputs": [
    {
     "name": "stdout",
     "output_type": "stream",
     "text": [
      "{'a': 1, 'b': 2, 'c': 3, 'd': 4, 'e': 5, 'f': 6, 'g': 7, 'h': 8, 'i': 9, 'j': 10, 'k': 11, 'l': 12, 'm': 13, 'n': 14, 'o': 15, 'p': 16, 'q': 17, 'r': 18, 's': 19, 't': 20, 'u': 21, 'v': 22, 'w': 23, 'x': 24, 'y': 25, 'z': 26, '.': 0}\n",
      "{1: 'a', 2: 'b', 3: 'c', 4: 'd', 5: 'e', 6: 'f', 7: 'g', 8: 'h', 9: 'i', 10: 'j', 11: 'k', 12: 'l', 13: 'm', 14: 'n', 15: 'o', 16: 'p', 17: 'q', 18: 'r', 19: 's', 20: 't', 21: 'u', 22: 'v', 23: 'w', 24: 'x', 25: 'y', 26: 'z', 0: '.'}\n"
     ]
    }
   ],
   "source": [
    "chars = sorted(list(set(''.join(words))))\n",
    "stoi = {ch: i+1 for i, ch in enumerate(chars)}\n",
    "stoi['.'] = 0   \n",
    "itos = {i: ch for ch, i in stoi.items()}\n",
    "vocab_size = len(itos)\n",
    "print(stoi)\n",
    "print(itos)"
   ]
  },
  {
   "cell_type": "code",
   "execution_count": 4,
   "metadata": {},
   "outputs": [
    {
     "name": "stdout",
     "output_type": "stream",
     "text": [
      "torch.Size([182407, 3]) torch.Size([22815, 3]) torch.Size([22924, 3])\n",
      "torch.Size([182407]) torch.Size([22815]) torch.Size([22924])\n"
     ]
    }
   ],
   "source": [
    "def build_data(words, block_size):\n",
    "    X, Y = [], [] \n",
    "    for w in words:\n",
    "        context = [0] * block_size\n",
    "        for c in w + '.':\n",
    "            ix = stoi[c]\n",
    "            X.append(context)\n",
    "            Y.append(ix)\n",
    "            context = context[1:] + [ix]\n",
    "    return torch.tensor(X), torch.tensor(Y)\n",
    "\n",
    "import random\n",
    "\n",
    "random.shuffle(words)\n",
    "n1 = int(len(words) * 0.8)\n",
    "n2 = int(len(words) * 0.9)\n",
    "\n",
    "block_size = 3\n",
    "\n",
    "X_train, Y_train = build_data(words[:n1], block_size)\n",
    "X_dev, Y_dev = build_data(words[n1:n2], block_size)\n",
    "X_test, Y_test = build_data(words[n2:], block_size)\n",
    "\n",
    "print(X_train.shape, X_dev.shape, X_test.shape)\n",
    "print(Y_train.shape, Y_dev.shape, Y_test.shape)"
   ]
  },
  {
   "cell_type": "code",
   "execution_count": 5,
   "metadata": {},
   "outputs": [
    {
     "name": "stdout",
     "output_type": "stream",
     "text": [
      "12297 parameters\n"
     ]
    }
   ],
   "source": [
    "n_embd = 10 \n",
    "n_hidden = 200\n",
    "\n",
    "C = torch.rand((vocab_size,n_embd))\n",
    "W1 = torch.rand((n_embd * block_size, n_hidden)) * (5/3)/((n_embd * block_size)**0.5)\n",
    "b1 = torch.rand((n_hidden,)) * 0.01 \n",
    "W2 = torch.randn(n_hidden, vocab_size) * 0.01 \n",
    "b2 = torch.randn(vocab_size) * 0\n",
    "bngain = torch.ones((1, n_hidden))\n",
    "bnbias = torch.zeros((1, n_hidden))\n",
    "\n",
    "parameters = [C, W1, b1, W2, b2, bngain, bnbias]\n",
    "\n",
    "for p in parameters:\n",
    "    p.requires_grad = True\n",
    "\n",
    "print(f\"{sum(p.numel() for p in parameters)} parameters\")"
   ]
  },
  {
   "cell_type": "code",
   "execution_count": 8,
   "metadata": {},
   "outputs": [
    {
     "name": "stdout",
     "output_type": "stream",
     "text": [
      "expected initial loss 3.295836925506592\n",
      "      0/ 200000 loss: 1.9799\n",
      "  10000/ 200000 loss: 1.9323\n",
      "  20000/ 200000 loss: 2.1351\n",
      "  30000/ 200000 loss: 2.7393\n",
      "  40000/ 200000 loss: 1.9193\n",
      "  50000/ 200000 loss: 1.8307\n",
      "  60000/ 200000 loss: 2.2794\n",
      "  70000/ 200000 loss: 2.4838\n",
      "  80000/ 200000 loss: 2.1302\n",
      "  90000/ 200000 loss: 2.2680\n",
      " 100000/ 200000 loss: 2.3333\n",
      " 110000/ 200000 loss: 1.7238\n",
      " 120000/ 200000 loss: 2.2617\n",
      " 130000/ 200000 loss: 2.3168\n",
      " 140000/ 200000 loss: 1.8460\n",
      " 150000/ 200000 loss: 2.0502\n",
      " 160000/ 200000 loss: 2.2080\n",
      " 170000/ 200000 loss: 2.4302\n",
      " 180000/ 200000 loss: 1.9603\n",
      " 190000/ 200000 loss: 2.5170\n",
      "CPU times: user 6min 1s, sys: 10min 7s, total: 16min 9s\n",
      "Wall time: 1min 54s\n"
     ]
    }
   ],
   "source": [
    "%%time\n",
    "\n",
    "max_steps = 200000\n",
    "batch_size = 32\n",
    "lossi = []\n",
    "\n",
    "print(f\"expected initial loss {-torch.tensor(1/vocab_size).log()}\")\n",
    "\n",
    "for i in range(max_steps):\n",
    "    # mini batch, run the whole fordward back ward update in just a small batch\n",
    "    ix = torch.randint(0, X_train.shape[0], (batch_size,))\n",
    "    X_batch, Y_batch = X_train[ix], Y_train[ix]\n",
    "\n",
    "    # forward pas\n",
    "    emb = C[X_batch] # embed the characters \n",
    "    emb_cat = emb.view(emb.shape[0], -1) \n",
    "    hpreact = emb_cat @ W1 + b1 # hidden layer preactivation\n",
    "    hpreact = bngain * (hpreact - hpreact.mean(0, keepdim=True)) / hpreact.std(0, keepdim=True) + bnbias # batch norm \n",
    "\n",
    "    h = torch.tanh(hpreact) \n",
    "    logits = h @ W2 + b2 # (32, 27)\n",
    "    # counts = logits.exp()\n",
    "    # prob = counts / counts.sum(1, keepdim=True)\n",
    "    # loss = -prob[torch.arange(32), Y].log().mean()\n",
    "    loss = F.cross_entropy(logits, Y_batch) # exactly the same as the above, just much more efficient\n",
    "    # backward pass\n",
    "    for p in parameters:\n",
    "        p.grad = None\n",
    "    loss.backward()\n",
    "\n",
    "    # update\n",
    "    learning_rate = 0.1 if i < max_steps/2 else 0.01\n",
    "\n",
    "    for p in parameters:\n",
    "        p.data += -learning_rate * p.grad\n",
    "\n",
    "    if i % 10000 == 0:\n",
    "        print(f\"{i:7d}/{max_steps:7d} loss: {loss.item():.4f}\")\n",
    "\n",
    "    lossi.append(loss.log10().item())"
   ]
  },
  {
   "cell_type": "code",
   "execution_count": null,
   "metadata": {},
   "outputs": [],
   "source": [
    "# calibrate the batch norm at the end of training\n",
    "\n",
    "with torch.no_grad():\n",
    "    emb = C[X_train]\n",
    "    emb_cat = emb.view(emb.shape[0], -1)\n",
    "    hpreact = emb_cat @ W1 + b1\n",
    "    bngain = 1/(hpreact.std(0, keepdim=True) + 1e-3)\n",
    "    bnbias.data = -hpreact.mean(0, keepdim=True) * bngain"
   ]
  },
  {
   "cell_type": "code",
   "execution_count": 7,
   "metadata": {},
   "outputs": [
    {
     "name": "stdout",
     "output_type": "stream",
     "text": [
      "loss for the train dataset 2.0622000694274902\n",
      "loss for the val dataset 2.116655111312866\n"
     ]
    }
   ],
   "source": [
    "@torch.no_grad \n",
    "\n",
    "def split_loss(split):\n",
    "    x, y = {\n",
    "        'train': (X_train, Y_train),\n",
    "        'val': (X_dev, Y_dev),\n",
    "        'test': (X_test, Y_test)\n",
    "    }[split]\n",
    "    emb = C[x]\n",
    "    emb_cat = emb.view(emb.shape[0], -1) \n",
    "    hpreact = emb_cat @ W1 + b1 # hidden layer preactivation\n",
    "    hpreact = bngain * (hpreact - hpreact.mean(0, keepdim=True)) / hpreact.std(0, keepdim=True) + bnbias # batch norm \n",
    "    h = torch.tanh(hpreact) \n",
    "    logits = h @ W2 + b2\n",
    "    loss = F.cross_entropy(logits, y) \n",
    "    print(f\"loss for the {split} dataset\", loss.item())\n",
    "\n",
    "split_loss('train')\n",
    "split_loss('val')"
   ]
  },
  {
   "cell_type": "code",
   "execution_count": null,
   "metadata": {},
   "outputs": [],
   "source": []
  }
 ],
 "metadata": {
  "kernelspec": {
   "display_name": ".venv",
   "language": "python",
   "name": "python3"
  },
  "language_info": {
   "codemirror_mode": {
    "name": "ipython",
    "version": 3
   },
   "file_extension": ".py",
   "mimetype": "text/x-python",
   "name": "python",
   "nbconvert_exporter": "python",
   "pygments_lexer": "ipython3",
   "version": "3.9.6"
  }
 },
 "nbformat": 4,
 "nbformat_minor": 2
}
